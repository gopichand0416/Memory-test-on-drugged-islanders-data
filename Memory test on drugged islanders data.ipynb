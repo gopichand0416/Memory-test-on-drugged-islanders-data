{
 "cells": [
  {
   "cell_type": "code",
   "execution_count": 73,
   "metadata": {},
   "outputs": [
    {
     "data": {
      "text/html": [
       "<script>\n",
       "code_show=true; \n",
       "function code_toggle() {\n",
       " if (code_show){\n",
       " $('div.input').hide();\n",
       " } else {\n",
       " $('div.input').show();\n",
       " }\n",
       " code_show = !code_show\n",
       "} \n",
       "$( document ).ready(code_toggle);\n",
       "</script>\n",
       "<form action=\"javascript:code_toggle()\"><input type=\"submit\" value=\"Click here to toggle on/off the raw code.\"></form>"
      ],
      "text/plain": [
       "<IPython.core.display.HTML object>"
      ]
     },
     "execution_count": 73,
     "metadata": {},
     "output_type": "execute_result"
    }
   ],
   "source": [
    "from IPython.display import HTML\n",
    "HTML('''<script>\n",
    "code_show=true; \n",
    "function code_toggle() {\n",
    " if (code_show){\n",
    " $('div.input').hide();\n",
    " } else {\n",
    " $('div.input').show();\n",
    " }\n",
    " code_show = !code_show\n",
    "} \n",
    "$( document ).ready(code_toggle);\n",
    "</script>\n",
    "<form action=\"javascript:code_toggle()\"><input type=\"submit\" value=\"Click here to toggle on/off the raw code.\"></form>''')"
   ]
  },
  {
   "cell_type": "markdown",
   "metadata": {},
   "source": [
    "# Memory Test on Drugged islanders data\n",
    "## Description of the data set\n",
    "An experiment on the effects of anti-anxiety medicine on memory recall when being primed with happy or sad memories. The participants were done on novel Islanders whom mimic real-life humans in response to external factors.\n",
    "\n",
    "Drugs of interest (known-as) [Dosage 1, 2, 3]:\n",
    "\n",
    "A - Alprazolam (Xanax, Long-term) [1mg/3mg/5mg]\n",
    "\n",
    "T - Triazolam (Halcion, Short-term) [0.25mg/0.5mg/0.75mg]\n",
    "\n",
    "S- Sugar Tablet (Placebo) [1 tab/2tabs/3tabs]\n",
    "\n",
    "*Dosages follow a 1:1 ratio to ensure validity\n",
    "*Happy or Sad memories were primed 10 minutes prior to testing\n",
    "*Participants tested every day for 1 week to mimic addiction\n",
    "\n",
    "Building the Case:\n",
    "Obstructive effects of Benzodiazepines (Anti-Anxiety Medicine):\n",
    "\n",
    "Long term adverse effects on Long Term Potentiation of synapses, metacognition and memory recall ability\n",
    "http://www.jstor.org/stable/43854146\n",
    "Happy Memories:\n",
    "\n",
    "research shown positive memories to have a deeper and greater volume of striatum representation under an fMRI\n",
    "https://www.sciencedirect.com/science/article/pii/S0896627314008484\n",
    "Sad Memories:\n",
    "\n",
    "research shown sad memories invokes better memory recall for evolutionary purpose whereas, happy memories are more susceptible to false memories\n",
    "http://www.jstor.org/stable/40064315\n",
    "Participants - all genders above 25+ years old to ensure a fully developed pre-frontal cortex, a region responsible for higher level cognition and memory recall.\n",
    "\n",
    "Content\n",
    "File contains information on participants drug treatment information along with their test scores."
   ]
  },
  {
   "cell_type": "code",
   "execution_count": 74,
   "metadata": {},
   "outputs": [],
   "source": [
    "import pandas as pd"
   ]
  },
  {
   "cell_type": "code",
   "execution_count": 75,
   "metadata": {},
   "outputs": [],
   "source": [
    "import numpy as np\n",
    "import plotly as plty\n",
    "import matplotlib.pyplot as plt\n",
    "import seaborn as sns"
   ]
  },
  {
   "cell_type": "code",
   "execution_count": 76,
   "metadata": {},
   "outputs": [],
   "source": [
    "df = pd.read_csv('C:/Users/gotti/Downloads/islander_data.csv')"
   ]
  },
  {
   "cell_type": "code",
   "execution_count": 77,
   "metadata": {},
   "outputs": [
    {
     "data": {
      "text/html": [
       "<div>\n",
       "<style scoped>\n",
       "    .dataframe tbody tr th:only-of-type {\n",
       "        vertical-align: middle;\n",
       "    }\n",
       "\n",
       "    .dataframe tbody tr th {\n",
       "        vertical-align: top;\n",
       "    }\n",
       "\n",
       "    .dataframe thead th {\n",
       "        text-align: right;\n",
       "    }\n",
       "</style>\n",
       "<table border=\"1\" class=\"dataframe\">\n",
       "  <thead>\n",
       "    <tr style=\"text-align: right;\">\n",
       "      <th></th>\n",
       "      <th>first_name</th>\n",
       "      <th>last_name</th>\n",
       "      <th>age</th>\n",
       "      <th>Happy_Sad_group</th>\n",
       "      <th>Dosage</th>\n",
       "      <th>Drug</th>\n",
       "      <th>Mem_Score_Before</th>\n",
       "      <th>Mem_Score_After</th>\n",
       "      <th>Diff</th>\n",
       "    </tr>\n",
       "  </thead>\n",
       "  <tbody>\n",
       "    <tr>\n",
       "      <th>0</th>\n",
       "      <td>Bastian</td>\n",
       "      <td>Carrasco</td>\n",
       "      <td>25</td>\n",
       "      <td>H</td>\n",
       "      <td>1</td>\n",
       "      <td>A</td>\n",
       "      <td>63.5</td>\n",
       "      <td>61.2</td>\n",
       "      <td>-2.3</td>\n",
       "    </tr>\n",
       "    <tr>\n",
       "      <th>1</th>\n",
       "      <td>Evan</td>\n",
       "      <td>Carrasco</td>\n",
       "      <td>52</td>\n",
       "      <td>S</td>\n",
       "      <td>1</td>\n",
       "      <td>A</td>\n",
       "      <td>41.6</td>\n",
       "      <td>40.7</td>\n",
       "      <td>-0.9</td>\n",
       "    </tr>\n",
       "    <tr>\n",
       "      <th>2</th>\n",
       "      <td>Florencia</td>\n",
       "      <td>Carrasco</td>\n",
       "      <td>29</td>\n",
       "      <td>H</td>\n",
       "      <td>1</td>\n",
       "      <td>A</td>\n",
       "      <td>59.7</td>\n",
       "      <td>55.1</td>\n",
       "      <td>-4.6</td>\n",
       "    </tr>\n",
       "    <tr>\n",
       "      <th>3</th>\n",
       "      <td>Holly</td>\n",
       "      <td>Carrasco</td>\n",
       "      <td>50</td>\n",
       "      <td>S</td>\n",
       "      <td>1</td>\n",
       "      <td>A</td>\n",
       "      <td>51.7</td>\n",
       "      <td>51.2</td>\n",
       "      <td>-0.5</td>\n",
       "    </tr>\n",
       "    <tr>\n",
       "      <th>4</th>\n",
       "      <td>Justin</td>\n",
       "      <td>Carrasco</td>\n",
       "      <td>52</td>\n",
       "      <td>H</td>\n",
       "      <td>1</td>\n",
       "      <td>A</td>\n",
       "      <td>47.0</td>\n",
       "      <td>47.1</td>\n",
       "      <td>0.1</td>\n",
       "    </tr>\n",
       "  </tbody>\n",
       "</table>\n",
       "</div>"
      ],
      "text/plain": [
       "  first_name last_name  age Happy_Sad_group  Dosage Drug  Mem_Score_Before  \\\n",
       "0    Bastian  Carrasco   25               H       1    A              63.5   \n",
       "1       Evan  Carrasco   52               S       1    A              41.6   \n",
       "2  Florencia  Carrasco   29               H       1    A              59.7   \n",
       "3      Holly  Carrasco   50               S       1    A              51.7   \n",
       "4     Justin  Carrasco   52               H       1    A              47.0   \n",
       "\n",
       "   Mem_Score_After  Diff  \n",
       "0             61.2  -2.3  \n",
       "1             40.7  -0.9  \n",
       "2             55.1  -4.6  \n",
       "3             51.2  -0.5  \n",
       "4             47.1   0.1  "
      ]
     },
     "execution_count": 77,
     "metadata": {},
     "output_type": "execute_result"
    }
   ],
   "source": [
    "df.head()"
   ]
  },
  {
   "cell_type": "markdown",
   "metadata": {},
   "source": [
    "## Attributes of dataset\n",
    "\n",
    " 1)**first_name** : First name of Islander  \n",
    " 2)**last_name** : Last name of Islander  \n",
    " 3)**age** : Age of Islander  \n",
    " 4)**Happy_Sad_group** : Happy or Sad Memory priming block  \n",
    " 5)**Dosage** : 1-3 to indicate the level of dosage (low - medium - over recommended daily intake)  \n",
    " 6)**Drug** : Type of Drug administered to Islander  \n",
    " 7)**Mem_Score_Before** : Seconds - how long it took to finish a memory test before drug exposure  \n",
    " 8)**Mem_Score_After** : Seconds - how long it took to finish a memory test after addiction achieved  \n",
    " 9)**Diff** : Seconds - difference between memory score before and after  "
   ]
  },
  {
   "cell_type": "markdown",
   "metadata": {},
   "source": [
    "## Shape of dataset:"
   ]
  },
  {
   "cell_type": "code",
   "execution_count": 78,
   "metadata": {},
   "outputs": [
    {
     "data": {
      "text/plain": [
       "(198, 9)"
      ]
     },
     "execution_count": 78,
     "metadata": {},
     "output_type": "execute_result"
    }
   ],
   "source": [
    "df.shape"
   ]
  },
  {
   "cell_type": "markdown",
   "metadata": {},
   "source": [
    " Our datset consists of 198 records with 9 columns present in it"
   ]
  },
  {
   "cell_type": "markdown",
   "metadata": {},
   "source": [
    "## Information of dataset: \n",
    "    These gives the information of dataset by giving the type of each attribute"
   ]
  },
  {
   "cell_type": "code",
   "execution_count": 79,
   "metadata": {},
   "outputs": [
    {
     "name": "stdout",
     "output_type": "stream",
     "text": [
      "<class 'pandas.core.frame.DataFrame'>\n",
      "RangeIndex: 198 entries, 0 to 197\n",
      "Data columns (total 9 columns):\n",
      " #   Column            Non-Null Count  Dtype  \n",
      "---  ------            --------------  -----  \n",
      " 0   first_name        198 non-null    object \n",
      " 1   last_name         198 non-null    object \n",
      " 2   age               198 non-null    int64  \n",
      " 3   Happy_Sad_group   198 non-null    object \n",
      " 4   Dosage            198 non-null    int64  \n",
      " 5   Drug              198 non-null    object \n",
      " 6   Mem_Score_Before  198 non-null    float64\n",
      " 7   Mem_Score_After   198 non-null    float64\n",
      " 8   Diff              198 non-null    float64\n",
      "dtypes: float64(3), int64(2), object(4)\n",
      "memory usage: 14.0+ KB\n"
     ]
    }
   ],
   "source": [
    "df.info()"
   ]
  },
  {
   "cell_type": "code",
   "execution_count": 80,
   "metadata": {},
   "outputs": [
    {
     "data": {
      "text/plain": [
       "first_name          0\n",
       "last_name           0\n",
       "age                 0\n",
       "Happy_Sad_group     0\n",
       "Dosage              0\n",
       "Drug                0\n",
       "Mem_Score_Before    0\n",
       "Mem_Score_After     0\n",
       "Diff                0\n",
       "dtype: int64"
      ]
     },
     "execution_count": 80,
     "metadata": {},
     "output_type": "execute_result"
    }
   ],
   "source": [
    "df.isnull().sum()"
   ]
  },
  {
   "cell_type": "markdown",
   "metadata": {},
   "source": [
    " From the above obtained results. we observe there are no missing values present in the data"
   ]
  },
  {
   "cell_type": "markdown",
   "metadata": {},
   "source": [
    "## Statistics of each variable present in datset:"
   ]
  },
  {
   "cell_type": "code",
   "execution_count": 81,
   "metadata": {},
   "outputs": [
    {
     "data": {
      "text/html": [
       "<div>\n",
       "<style scoped>\n",
       "    .dataframe tbody tr th:only-of-type {\n",
       "        vertical-align: middle;\n",
       "    }\n",
       "\n",
       "    .dataframe tbody tr th {\n",
       "        vertical-align: top;\n",
       "    }\n",
       "\n",
       "    .dataframe thead th {\n",
       "        text-align: right;\n",
       "    }\n",
       "</style>\n",
       "<table border=\"1\" class=\"dataframe\">\n",
       "  <thead>\n",
       "    <tr style=\"text-align: right;\">\n",
       "      <th></th>\n",
       "      <th>first_name</th>\n",
       "      <th>last_name</th>\n",
       "      <th>age</th>\n",
       "      <th>Happy_Sad_group</th>\n",
       "      <th>Dosage</th>\n",
       "      <th>Drug</th>\n",
       "      <th>Mem_Score_Before</th>\n",
       "      <th>Mem_Score_After</th>\n",
       "      <th>Diff</th>\n",
       "    </tr>\n",
       "  </thead>\n",
       "  <tbody>\n",
       "    <tr>\n",
       "      <th>count</th>\n",
       "      <td>198</td>\n",
       "      <td>198</td>\n",
       "      <td>198.000000</td>\n",
       "      <td>198</td>\n",
       "      <td>198.000000</td>\n",
       "      <td>198</td>\n",
       "      <td>198.000000</td>\n",
       "      <td>198.000000</td>\n",
       "      <td>198.000000</td>\n",
       "    </tr>\n",
       "    <tr>\n",
       "      <th>unique</th>\n",
       "      <td>139</td>\n",
       "      <td>18</td>\n",
       "      <td>NaN</td>\n",
       "      <td>2</td>\n",
       "      <td>NaN</td>\n",
       "      <td>3</td>\n",
       "      <td>NaN</td>\n",
       "      <td>NaN</td>\n",
       "      <td>NaN</td>\n",
       "    </tr>\n",
       "    <tr>\n",
       "      <th>top</th>\n",
       "      <td>Jun</td>\n",
       "      <td>Durand</td>\n",
       "      <td>NaN</td>\n",
       "      <td>S</td>\n",
       "      <td>NaN</td>\n",
       "      <td>A</td>\n",
       "      <td>NaN</td>\n",
       "      <td>NaN</td>\n",
       "      <td>NaN</td>\n",
       "    </tr>\n",
       "    <tr>\n",
       "      <th>freq</th>\n",
       "      <td>5</td>\n",
       "      <td>44</td>\n",
       "      <td>NaN</td>\n",
       "      <td>99</td>\n",
       "      <td>NaN</td>\n",
       "      <td>67</td>\n",
       "      <td>NaN</td>\n",
       "      <td>NaN</td>\n",
       "      <td>NaN</td>\n",
       "    </tr>\n",
       "    <tr>\n",
       "      <th>mean</th>\n",
       "      <td>NaN</td>\n",
       "      <td>NaN</td>\n",
       "      <td>39.530303</td>\n",
       "      <td>NaN</td>\n",
       "      <td>1.989899</td>\n",
       "      <td>NaN</td>\n",
       "      <td>57.967677</td>\n",
       "      <td>60.922222</td>\n",
       "      <td>2.954545</td>\n",
       "    </tr>\n",
       "    <tr>\n",
       "      <th>std</th>\n",
       "      <td>NaN</td>\n",
       "      <td>NaN</td>\n",
       "      <td>12.023099</td>\n",
       "      <td>NaN</td>\n",
       "      <td>0.818504</td>\n",
       "      <td>NaN</td>\n",
       "      <td>15.766007</td>\n",
       "      <td>18.133851</td>\n",
       "      <td>10.754603</td>\n",
       "    </tr>\n",
       "    <tr>\n",
       "      <th>min</th>\n",
       "      <td>NaN</td>\n",
       "      <td>NaN</td>\n",
       "      <td>24.000000</td>\n",
       "      <td>NaN</td>\n",
       "      <td>1.000000</td>\n",
       "      <td>NaN</td>\n",
       "      <td>27.200000</td>\n",
       "      <td>27.100000</td>\n",
       "      <td>-40.400000</td>\n",
       "    </tr>\n",
       "    <tr>\n",
       "      <th>25%</th>\n",
       "      <td>NaN</td>\n",
       "      <td>NaN</td>\n",
       "      <td>30.000000</td>\n",
       "      <td>NaN</td>\n",
       "      <td>1.000000</td>\n",
       "      <td>NaN</td>\n",
       "      <td>46.525000</td>\n",
       "      <td>47.175000</td>\n",
       "      <td>-3.175000</td>\n",
       "    </tr>\n",
       "    <tr>\n",
       "      <th>50%</th>\n",
       "      <td>NaN</td>\n",
       "      <td>NaN</td>\n",
       "      <td>37.000000</td>\n",
       "      <td>NaN</td>\n",
       "      <td>2.000000</td>\n",
       "      <td>NaN</td>\n",
       "      <td>54.800000</td>\n",
       "      <td>56.750000</td>\n",
       "      <td>1.700000</td>\n",
       "    </tr>\n",
       "    <tr>\n",
       "      <th>75%</th>\n",
       "      <td>NaN</td>\n",
       "      <td>NaN</td>\n",
       "      <td>48.000000</td>\n",
       "      <td>NaN</td>\n",
       "      <td>3.000000</td>\n",
       "      <td>NaN</td>\n",
       "      <td>68.400000</td>\n",
       "      <td>73.250000</td>\n",
       "      <td>5.925000</td>\n",
       "    </tr>\n",
       "    <tr>\n",
       "      <th>max</th>\n",
       "      <td>NaN</td>\n",
       "      <td>NaN</td>\n",
       "      <td>83.000000</td>\n",
       "      <td>NaN</td>\n",
       "      <td>3.000000</td>\n",
       "      <td>NaN</td>\n",
       "      <td>110.000000</td>\n",
       "      <td>120.000000</td>\n",
       "      <td>49.000000</td>\n",
       "    </tr>\n",
       "  </tbody>\n",
       "</table>\n",
       "</div>"
      ],
      "text/plain": [
       "       first_name last_name         age Happy_Sad_group      Dosage Drug  \\\n",
       "count         198       198  198.000000             198  198.000000  198   \n",
       "unique        139        18         NaN               2         NaN    3   \n",
       "top           Jun    Durand         NaN               S         NaN    A   \n",
       "freq            5        44         NaN              99         NaN   67   \n",
       "mean          NaN       NaN   39.530303             NaN    1.989899  NaN   \n",
       "std           NaN       NaN   12.023099             NaN    0.818504  NaN   \n",
       "min           NaN       NaN   24.000000             NaN    1.000000  NaN   \n",
       "25%           NaN       NaN   30.000000             NaN    1.000000  NaN   \n",
       "50%           NaN       NaN   37.000000             NaN    2.000000  NaN   \n",
       "75%           NaN       NaN   48.000000             NaN    3.000000  NaN   \n",
       "max           NaN       NaN   83.000000             NaN    3.000000  NaN   \n",
       "\n",
       "        Mem_Score_Before  Mem_Score_After        Diff  \n",
       "count         198.000000       198.000000  198.000000  \n",
       "unique               NaN              NaN         NaN  \n",
       "top                  NaN              NaN         NaN  \n",
       "freq                 NaN              NaN         NaN  \n",
       "mean           57.967677        60.922222    2.954545  \n",
       "std            15.766007        18.133851   10.754603  \n",
       "min            27.200000        27.100000  -40.400000  \n",
       "25%            46.525000        47.175000   -3.175000  \n",
       "50%            54.800000        56.750000    1.700000  \n",
       "75%            68.400000        73.250000    5.925000  \n",
       "max           110.000000       120.000000   49.000000  "
      ]
     },
     "execution_count": 81,
     "metadata": {},
     "output_type": "execute_result"
    }
   ],
   "source": [
    "df.describe(include='all')"
   ]
  },
  {
   "cell_type": "markdown",
   "metadata": {},
   "source": [
    "From the above statistics we observe that it consists of minimum age of 24 maximum age is 83 the average age is 37. The minimum **Dosage** is 1 where as maximum is 3 the average is 2. The **Mem_score_Before** minimum seconds are 57 where as maximum seconds are 110 its average seconds are 54. The **Mem_score_After** its minimum seconds are 27 and maximum seconds are 120 where as 56 are its average seconds. BY the obtained values in seconds we observe the difference between them are the minimum difference is -40 seconds from these we observe that the drug is making us to loose the memory very early may be these has been obtained like these because it also consists of the data of the persons with higher dosage of the drug where as its maximum difference is 49 these may be happened by having little dosage and the average is 1.70 seconds these occured due to the minimum dosage. "
   ]
  },
  {
   "cell_type": "markdown",
   "metadata": {},
   "source": [
    "## Univariate analysis"
   ]
  },
  {
   "cell_type": "markdown",
   "metadata": {},
   "source": [
    "## Age:-\n",
    " Now we observe the number of the persons present the particular age"
   ]
  },
  {
   "cell_type": "code",
   "execution_count": 82,
   "metadata": {},
   "outputs": [
    {
     "data": {
      "text/plain": [
       "37    13\n",
       "29    12\n",
       "34    11\n",
       "35    11\n",
       "25    10\n",
       "28    10\n",
       "27     9\n",
       "26     7\n",
       "38     7\n",
       "40     7\n",
       "32     7\n",
       "33     7\n",
       "52     6\n",
       "51     6\n",
       "50     5\n",
       "49     5\n",
       "30     5\n",
       "54     4\n",
       "36     4\n",
       "39     4\n",
       "48     4\n",
       "42     4\n",
       "53     3\n",
       "46     3\n",
       "45     3\n",
       "31     3\n",
       "43     2\n",
       "47     2\n",
       "41     2\n",
       "62     2\n",
       "56     2\n",
       "63     2\n",
       "65     2\n",
       "68     2\n",
       "44     2\n",
       "83     1\n",
       "80     1\n",
       "55     1\n",
       "59     1\n",
       "60     1\n",
       "66     1\n",
       "69     1\n",
       "72     1\n",
       "73     1\n",
       "24     1\n",
       "Name: age, dtype: int64"
      ]
     },
     "execution_count": 82,
     "metadata": {},
     "output_type": "execute_result"
    }
   ],
   "source": [
    "df['age'].value_counts()"
   ]
  },
  {
   "cell_type": "markdown",
   "metadata": {},
   "source": [
    "The above shown data is used to mention the number of persons in the particular age group"
   ]
  },
  {
   "cell_type": "markdown",
   "metadata": {},
   "source": [
    "## Mean value for each Drug:-\n",
    "   Now we group the same drug usage persons into one group and we find the mean value for it."
   ]
  },
  {
   "cell_type": "code",
   "execution_count": 83,
   "metadata": {},
   "outputs": [],
   "source": [
    "  df1=df.groupby('Drug')['Diff'].agg(['count','mean']).sort_values(by = 'mean',ascending = False)"
   ]
  },
  {
   "cell_type": "code",
   "execution_count": 84,
   "metadata": {},
   "outputs": [
    {
     "data": {
      "text/html": [
       "<div>\n",
       "<style scoped>\n",
       "    .dataframe tbody tr th:only-of-type {\n",
       "        vertical-align: middle;\n",
       "    }\n",
       "\n",
       "    .dataframe tbody tr th {\n",
       "        vertical-align: top;\n",
       "    }\n",
       "\n",
       "    .dataframe thead th {\n",
       "        text-align: right;\n",
       "    }\n",
       "</style>\n",
       "<table border=\"1\" class=\"dataframe\">\n",
       "  <thead>\n",
       "    <tr style=\"text-align: right;\">\n",
       "      <th></th>\n",
       "      <th>count</th>\n",
       "      <th>mean</th>\n",
       "    </tr>\n",
       "    <tr>\n",
       "      <th>Drug</th>\n",
       "      <th></th>\n",
       "      <th></th>\n",
       "    </tr>\n",
       "  </thead>\n",
       "  <tbody>\n",
       "    <tr>\n",
       "      <th>A</th>\n",
       "      <td>67</td>\n",
       "      <td>9.470149</td>\n",
       "    </tr>\n",
       "    <tr>\n",
       "      <th>S</th>\n",
       "      <td>66</td>\n",
       "      <td>-0.171212</td>\n",
       "    </tr>\n",
       "    <tr>\n",
       "      <th>T</th>\n",
       "      <td>65</td>\n",
       "      <td>-0.587692</td>\n",
       "    </tr>\n",
       "  </tbody>\n",
       "</table>\n",
       "</div>"
      ],
      "text/plain": [
       "      count      mean\n",
       "Drug                 \n",
       "A        67  9.470149\n",
       "S        66 -0.171212\n",
       "T        65 -0.587692"
      ]
     },
     "execution_count": 84,
     "metadata": {},
     "output_type": "execute_result"
    }
   ],
   "source": [
    "df1"
   ]
  },
  {
   "cell_type": "markdown",
   "metadata": {},
   "source": [
    "We create a separate data frame for mentioning average age over difference. which is used to group the drugs with the obtained difference of time between drugs before and after."
   ]
  },
  {
   "cell_type": "code",
   "execution_count": 85,
   "metadata": {},
   "outputs": [
    {
     "data": {
      "text/plain": [
       "0      9.470149\n",
       "1      9.470149\n",
       "2      9.470149\n",
       "3      9.470149\n",
       "4      9.470149\n",
       "         ...   \n",
       "193   -0.587692\n",
       "194   -0.587692\n",
       "195   -0.587692\n",
       "196   -0.587692\n",
       "197   -0.587692\n",
       "Name: avg_ovr_diff, Length: 198, dtype: float64"
      ]
     },
     "execution_count": 85,
     "metadata": {},
     "output_type": "execute_result"
    }
   ],
   "source": [
    "df['avg_ovr_diff'] = df.groupby('Drug')['Diff'].transform('mean')\n",
    "df['avg_ovr_diff']"
   ]
  },
  {
   "cell_type": "markdown",
   "metadata": {},
   "source": [
    "Now we would group the age group which consists of 5 members in each group"
   ]
  },
  {
   "cell_type": "code",
   "execution_count": 86,
   "metadata": {},
   "outputs": [
    {
     "data": {
      "text/html": [
       "<div>\n",
       "<style scoped>\n",
       "    .dataframe tbody tr th:only-of-type {\n",
       "        vertical-align: middle;\n",
       "    }\n",
       "\n",
       "    .dataframe tbody tr th {\n",
       "        vertical-align: top;\n",
       "    }\n",
       "\n",
       "    .dataframe thead th {\n",
       "        text-align: right;\n",
       "    }\n",
       "</style>\n",
       "<table border=\"1\" class=\"dataframe\">\n",
       "  <thead>\n",
       "    <tr style=\"text-align: right;\">\n",
       "      <th></th>\n",
       "      <th>age</th>\n",
       "      <th>age_group</th>\n",
       "    </tr>\n",
       "  </thead>\n",
       "  <tbody>\n",
       "    <tr>\n",
       "      <th>0</th>\n",
       "      <td>25</td>\n",
       "      <td>(24, 29]</td>\n",
       "    </tr>\n",
       "    <tr>\n",
       "      <th>1</th>\n",
       "      <td>52</td>\n",
       "      <td>(49, 54]</td>\n",
       "    </tr>\n",
       "    <tr>\n",
       "      <th>2</th>\n",
       "      <td>29</td>\n",
       "      <td>(24, 29]</td>\n",
       "    </tr>\n",
       "    <tr>\n",
       "      <th>3</th>\n",
       "      <td>50</td>\n",
       "      <td>(49, 54]</td>\n",
       "    </tr>\n",
       "    <tr>\n",
       "      <th>4</th>\n",
       "      <td>52</td>\n",
       "      <td>(49, 54]</td>\n",
       "    </tr>\n",
       "  </tbody>\n",
       "</table>\n",
       "</div>"
      ],
      "text/plain": [
       "   age age_group\n",
       "0   25  (24, 29]\n",
       "1   52  (49, 54]\n",
       "2   29  (24, 29]\n",
       "3   50  (49, 54]\n",
       "4   52  (49, 54]"
      ]
     },
     "execution_count": 86,
     "metadata": {},
     "output_type": "execute_result"
    }
   ],
   "source": [
    "df['age_group'] = pd.cut(\n",
    "    df['age'],\n",
    "    np.arange(start=df['age'].min(), step=5, stop=df['age'].max())\n",
    ")\n",
    "df[['age', 'age_group']].head()"
   ]
  },
  {
   "cell_type": "markdown",
   "metadata": {},
   "source": [
    " Now  we are adding a new column for giving average age group"
   ]
  },
  {
   "cell_type": "code",
   "execution_count": 87,
   "metadata": {},
   "outputs": [
    {
     "data": {
      "text/html": [
       "<div>\n",
       "<style scoped>\n",
       "    .dataframe tbody tr th:only-of-type {\n",
       "        vertical-align: middle;\n",
       "    }\n",
       "\n",
       "    .dataframe tbody tr th {\n",
       "        vertical-align: top;\n",
       "    }\n",
       "\n",
       "    .dataframe thead th {\n",
       "        text-align: right;\n",
       "    }\n",
       "</style>\n",
       "<table border=\"1\" class=\"dataframe\">\n",
       "  <thead>\n",
       "    <tr style=\"text-align: right;\">\n",
       "      <th></th>\n",
       "      <th>age_group</th>\n",
       "      <th>avg_age_diff</th>\n",
       "    </tr>\n",
       "  </thead>\n",
       "  <tbody>\n",
       "    <tr>\n",
       "      <th>0</th>\n",
       "      <td>(24, 29]</td>\n",
       "      <td>2.710417</td>\n",
       "    </tr>\n",
       "    <tr>\n",
       "      <th>1</th>\n",
       "      <td>(49, 54]</td>\n",
       "      <td>4.658333</td>\n",
       "    </tr>\n",
       "    <tr>\n",
       "      <th>2</th>\n",
       "      <td>(24, 29]</td>\n",
       "      <td>2.710417</td>\n",
       "    </tr>\n",
       "    <tr>\n",
       "      <th>3</th>\n",
       "      <td>(49, 54]</td>\n",
       "      <td>4.658333</td>\n",
       "    </tr>\n",
       "    <tr>\n",
       "      <th>4</th>\n",
       "      <td>(49, 54]</td>\n",
       "      <td>4.658333</td>\n",
       "    </tr>\n",
       "  </tbody>\n",
       "</table>\n",
       "</div>"
      ],
      "text/plain": [
       "  age_group  avg_age_diff\n",
       "0  (24, 29]      2.710417\n",
       "1  (49, 54]      4.658333\n",
       "2  (24, 29]      2.710417\n",
       "3  (49, 54]      4.658333\n",
       "4  (49, 54]      4.658333"
      ]
     },
     "execution_count": 87,
     "metadata": {},
     "output_type": "execute_result"
    }
   ],
   "source": [
    "df['avg_age_diff'] = df.groupby('age_group')['Diff'].transform('mean')\n",
    "df[['age_group', 'avg_age_diff']].head()"
   ]
  },
  {
   "cell_type": "markdown",
   "metadata": {},
   "source": [
    "In the above step  we are adding a new column for giving average age group"
   ]
  },
  {
   "cell_type": "markdown",
   "metadata": {},
   "source": [
    "## Grouping the persons by Drugs:-\n",
    "  Now we would group the persons by the type of drug used."
   ]
  },
  {
   "cell_type": "code",
   "execution_count": 88,
   "metadata": {},
   "outputs": [
    {
     "data": {
      "text/html": [
       "<div>\n",
       "<style scoped>\n",
       "    .dataframe tbody tr th:only-of-type {\n",
       "        vertical-align: middle;\n",
       "    }\n",
       "\n",
       "    .dataframe tbody tr th {\n",
       "        vertical-align: top;\n",
       "    }\n",
       "\n",
       "    .dataframe thead th {\n",
       "        text-align: right;\n",
       "    }\n",
       "</style>\n",
       "<table border=\"1\" class=\"dataframe\">\n",
       "  <thead>\n",
       "    <tr style=\"text-align: right;\">\n",
       "      <th></th>\n",
       "      <th>first_name</th>\n",
       "      <th>last_name</th>\n",
       "      <th>age</th>\n",
       "      <th>Happy_Sad_group</th>\n",
       "      <th>Dosage</th>\n",
       "      <th>Drug</th>\n",
       "      <th>Mem_Score_Before</th>\n",
       "      <th>Mem_Score_After</th>\n",
       "      <th>Diff</th>\n",
       "      <th>avg_ovr_diff</th>\n",
       "      <th>age_group</th>\n",
       "      <th>avg_age_diff</th>\n",
       "    </tr>\n",
       "  </thead>\n",
       "  <tbody>\n",
       "    <tr>\n",
       "      <th>0</th>\n",
       "      <td>Bastian</td>\n",
       "      <td>Carrasco</td>\n",
       "      <td>25</td>\n",
       "      <td>H</td>\n",
       "      <td>1</td>\n",
       "      <td>A</td>\n",
       "      <td>63.5</td>\n",
       "      <td>61.2</td>\n",
       "      <td>-2.3</td>\n",
       "      <td>9.470149</td>\n",
       "      <td>(24, 29]</td>\n",
       "      <td>2.710417</td>\n",
       "    </tr>\n",
       "    <tr>\n",
       "      <th>1</th>\n",
       "      <td>Evan</td>\n",
       "      <td>Carrasco</td>\n",
       "      <td>52</td>\n",
       "      <td>S</td>\n",
       "      <td>1</td>\n",
       "      <td>A</td>\n",
       "      <td>41.6</td>\n",
       "      <td>40.7</td>\n",
       "      <td>-0.9</td>\n",
       "      <td>9.470149</td>\n",
       "      <td>(49, 54]</td>\n",
       "      <td>4.658333</td>\n",
       "    </tr>\n",
       "    <tr>\n",
       "      <th>2</th>\n",
       "      <td>Florencia</td>\n",
       "      <td>Carrasco</td>\n",
       "      <td>29</td>\n",
       "      <td>H</td>\n",
       "      <td>1</td>\n",
       "      <td>A</td>\n",
       "      <td>59.7</td>\n",
       "      <td>55.1</td>\n",
       "      <td>-4.6</td>\n",
       "      <td>9.470149</td>\n",
       "      <td>(24, 29]</td>\n",
       "      <td>2.710417</td>\n",
       "    </tr>\n",
       "    <tr>\n",
       "      <th>3</th>\n",
       "      <td>Holly</td>\n",
       "      <td>Carrasco</td>\n",
       "      <td>50</td>\n",
       "      <td>S</td>\n",
       "      <td>1</td>\n",
       "      <td>A</td>\n",
       "      <td>51.7</td>\n",
       "      <td>51.2</td>\n",
       "      <td>-0.5</td>\n",
       "      <td>9.470149</td>\n",
       "      <td>(49, 54]</td>\n",
       "      <td>4.658333</td>\n",
       "    </tr>\n",
       "    <tr>\n",
       "      <th>4</th>\n",
       "      <td>Justin</td>\n",
       "      <td>Carrasco</td>\n",
       "      <td>52</td>\n",
       "      <td>H</td>\n",
       "      <td>1</td>\n",
       "      <td>A</td>\n",
       "      <td>47.0</td>\n",
       "      <td>47.1</td>\n",
       "      <td>0.1</td>\n",
       "      <td>9.470149</td>\n",
       "      <td>(49, 54]</td>\n",
       "      <td>4.658333</td>\n",
       "    </tr>\n",
       "    <tr>\n",
       "      <th>...</th>\n",
       "      <td>...</td>\n",
       "      <td>...</td>\n",
       "      <td>...</td>\n",
       "      <td>...</td>\n",
       "      <td>...</td>\n",
       "      <td>...</td>\n",
       "      <td>...</td>\n",
       "      <td>...</td>\n",
       "      <td>...</td>\n",
       "      <td>...</td>\n",
       "      <td>...</td>\n",
       "      <td>...</td>\n",
       "    </tr>\n",
       "    <tr>\n",
       "      <th>62</th>\n",
       "      <td>Ariane</td>\n",
       "      <td>Steiner</td>\n",
       "      <td>27</td>\n",
       "      <td>S</td>\n",
       "      <td>3</td>\n",
       "      <td>A</td>\n",
       "      <td>54.0</td>\n",
       "      <td>60.0</td>\n",
       "      <td>6.0</td>\n",
       "      <td>9.470149</td>\n",
       "      <td>(24, 29]</td>\n",
       "      <td>2.710417</td>\n",
       "    </tr>\n",
       "    <tr>\n",
       "      <th>63</th>\n",
       "      <td>Naoto</td>\n",
       "      <td>Steiner</td>\n",
       "      <td>39</td>\n",
       "      <td>H</td>\n",
       "      <td>3</td>\n",
       "      <td>A</td>\n",
       "      <td>61.6</td>\n",
       "      <td>88.5</td>\n",
       "      <td>26.9</td>\n",
       "      <td>9.470149</td>\n",
       "      <td>(34, 39]</td>\n",
       "      <td>5.725641</td>\n",
       "    </tr>\n",
       "    <tr>\n",
       "      <th>64</th>\n",
       "      <td>Jade</td>\n",
       "      <td>Summers</td>\n",
       "      <td>40</td>\n",
       "      <td>S</td>\n",
       "      <td>3</td>\n",
       "      <td>A</td>\n",
       "      <td>59.8</td>\n",
       "      <td>79.7</td>\n",
       "      <td>19.9</td>\n",
       "      <td>9.470149</td>\n",
       "      <td>(39, 44]</td>\n",
       "      <td>2.517647</td>\n",
       "    </tr>\n",
       "    <tr>\n",
       "      <th>65</th>\n",
       "      <td>Kevin</td>\n",
       "      <td>Takahashi</td>\n",
       "      <td>34</td>\n",
       "      <td>H</td>\n",
       "      <td>3</td>\n",
       "      <td>A</td>\n",
       "      <td>64.1</td>\n",
       "      <td>90.0</td>\n",
       "      <td>25.9</td>\n",
       "      <td>9.470149</td>\n",
       "      <td>(29, 34]</td>\n",
       "      <td>0.651515</td>\n",
       "    </tr>\n",
       "    <tr>\n",
       "      <th>66</th>\n",
       "      <td>Tomax</td>\n",
       "      <td>Takahashi</td>\n",
       "      <td>37</td>\n",
       "      <td>S</td>\n",
       "      <td>3</td>\n",
       "      <td>A</td>\n",
       "      <td>53.3</td>\n",
       "      <td>75.2</td>\n",
       "      <td>21.9</td>\n",
       "      <td>9.470149</td>\n",
       "      <td>(34, 39]</td>\n",
       "      <td>5.725641</td>\n",
       "    </tr>\n",
       "  </tbody>\n",
       "</table>\n",
       "<p>67 rows × 12 columns</p>\n",
       "</div>"
      ],
      "text/plain": [
       "   first_name  last_name  age Happy_Sad_group  Dosage Drug  Mem_Score_Before  \\\n",
       "0     Bastian   Carrasco   25               H       1    A              63.5   \n",
       "1        Evan   Carrasco   52               S       1    A              41.6   \n",
       "2   Florencia   Carrasco   29               H       1    A              59.7   \n",
       "3       Holly   Carrasco   50               S       1    A              51.7   \n",
       "4      Justin   Carrasco   52               H       1    A              47.0   \n",
       "..        ...        ...  ...             ...     ...  ...               ...   \n",
       "62     Ariane    Steiner   27               S       3    A              54.0   \n",
       "63      Naoto    Steiner   39               H       3    A              61.6   \n",
       "64       Jade    Summers   40               S       3    A              59.8   \n",
       "65      Kevin  Takahashi   34               H       3    A              64.1   \n",
       "66      Tomax  Takahashi   37               S       3    A              53.3   \n",
       "\n",
       "    Mem_Score_After  Diff  avg_ovr_diff age_group  avg_age_diff  \n",
       "0              61.2  -2.3      9.470149  (24, 29]      2.710417  \n",
       "1              40.7  -0.9      9.470149  (49, 54]      4.658333  \n",
       "2              55.1  -4.6      9.470149  (24, 29]      2.710417  \n",
       "3              51.2  -0.5      9.470149  (49, 54]      4.658333  \n",
       "4              47.1   0.1      9.470149  (49, 54]      4.658333  \n",
       "..              ...   ...           ...       ...           ...  \n",
       "62             60.0   6.0      9.470149  (24, 29]      2.710417  \n",
       "63             88.5  26.9      9.470149  (34, 39]      5.725641  \n",
       "64             79.7  19.9      9.470149  (39, 44]      2.517647  \n",
       "65             90.0  25.9      9.470149  (29, 34]      0.651515  \n",
       "66             75.2  21.9      9.470149  (34, 39]      5.725641  \n",
       "\n",
       "[67 rows x 12 columns]"
      ]
     },
     "execution_count": 88,
     "metadata": {},
     "output_type": "execute_result"
    }
   ],
   "source": [
    "alprazolam_df = df.loc[df['Drug'] == 'A']\n",
    "alprazolam_df"
   ]
  },
  {
   "cell_type": "code",
   "execution_count": 89,
   "metadata": {},
   "outputs": [
    {
     "data": {
      "text/html": [
       "<div>\n",
       "<style scoped>\n",
       "    .dataframe tbody tr th:only-of-type {\n",
       "        vertical-align: middle;\n",
       "    }\n",
       "\n",
       "    .dataframe tbody tr th {\n",
       "        vertical-align: top;\n",
       "    }\n",
       "\n",
       "    .dataframe thead th {\n",
       "        text-align: right;\n",
       "    }\n",
       "</style>\n",
       "<table border=\"1\" class=\"dataframe\">\n",
       "  <thead>\n",
       "    <tr style=\"text-align: right;\">\n",
       "      <th></th>\n",
       "      <th>first_name</th>\n",
       "      <th>last_name</th>\n",
       "      <th>age</th>\n",
       "      <th>Happy_Sad_group</th>\n",
       "      <th>Dosage</th>\n",
       "      <th>Drug</th>\n",
       "      <th>Mem_Score_Before</th>\n",
       "      <th>Mem_Score_After</th>\n",
       "      <th>Diff</th>\n",
       "      <th>avg_ovr_diff</th>\n",
       "      <th>age_group</th>\n",
       "      <th>avg_age_diff</th>\n",
       "    </tr>\n",
       "  </thead>\n",
       "  <tbody>\n",
       "    <tr>\n",
       "      <th>133</th>\n",
       "      <td>Ross</td>\n",
       "      <td>Bernard</td>\n",
       "      <td>37</td>\n",
       "      <td>S</td>\n",
       "      <td>1</td>\n",
       "      <td>T</td>\n",
       "      <td>46.9</td>\n",
       "      <td>46.9</td>\n",
       "      <td>0.0</td>\n",
       "      <td>-0.587692</td>\n",
       "      <td>(34, 39]</td>\n",
       "      <td>5.725641</td>\n",
       "    </tr>\n",
       "    <tr>\n",
       "      <th>134</th>\n",
       "      <td>Bastian</td>\n",
       "      <td>Carrasco</td>\n",
       "      <td>27</td>\n",
       "      <td>H</td>\n",
       "      <td>1</td>\n",
       "      <td>T</td>\n",
       "      <td>51.4</td>\n",
       "      <td>51.4</td>\n",
       "      <td>0.0</td>\n",
       "      <td>-0.587692</td>\n",
       "      <td>(24, 29]</td>\n",
       "      <td>2.710417</td>\n",
       "    </tr>\n",
       "    <tr>\n",
       "      <th>135</th>\n",
       "      <td>Daniel</td>\n",
       "      <td>Carrasco</td>\n",
       "      <td>28</td>\n",
       "      <td>H</td>\n",
       "      <td>1</td>\n",
       "      <td>T</td>\n",
       "      <td>50.5</td>\n",
       "      <td>56.8</td>\n",
       "      <td>6.3</td>\n",
       "      <td>-0.587692</td>\n",
       "      <td>(24, 29]</td>\n",
       "      <td>2.710417</td>\n",
       "    </tr>\n",
       "    <tr>\n",
       "      <th>136</th>\n",
       "      <td>Jun</td>\n",
       "      <td>Carrasco</td>\n",
       "      <td>30</td>\n",
       "      <td>S</td>\n",
       "      <td>1</td>\n",
       "      <td>T</td>\n",
       "      <td>50.0</td>\n",
       "      <td>42.2</td>\n",
       "      <td>-7.8</td>\n",
       "      <td>-0.587692</td>\n",
       "      <td>(29, 34]</td>\n",
       "      <td>0.651515</td>\n",
       "    </tr>\n",
       "    <tr>\n",
       "      <th>137</th>\n",
       "      <td>William</td>\n",
       "      <td>Carrasco</td>\n",
       "      <td>62</td>\n",
       "      <td>H</td>\n",
       "      <td>1</td>\n",
       "      <td>T</td>\n",
       "      <td>96.0</td>\n",
       "      <td>102.0</td>\n",
       "      <td>6.0</td>\n",
       "      <td>-0.587692</td>\n",
       "      <td>(59, 64]</td>\n",
       "      <td>2.460000</td>\n",
       "    </tr>\n",
       "    <tr>\n",
       "      <th>...</th>\n",
       "      <td>...</td>\n",
       "      <td>...</td>\n",
       "      <td>...</td>\n",
       "      <td>...</td>\n",
       "      <td>...</td>\n",
       "      <td>...</td>\n",
       "      <td>...</td>\n",
       "      <td>...</td>\n",
       "      <td>...</td>\n",
       "      <td>...</td>\n",
       "      <td>...</td>\n",
       "      <td>...</td>\n",
       "    </tr>\n",
       "    <tr>\n",
       "      <th>193</th>\n",
       "      <td>Jacob</td>\n",
       "      <td>Novak</td>\n",
       "      <td>52</td>\n",
       "      <td>H</td>\n",
       "      <td>3</td>\n",
       "      <td>T</td>\n",
       "      <td>71.3</td>\n",
       "      <td>74.3</td>\n",
       "      <td>3.0</td>\n",
       "      <td>-0.587692</td>\n",
       "      <td>(49, 54]</td>\n",
       "      <td>4.658333</td>\n",
       "    </tr>\n",
       "    <tr>\n",
       "      <th>194</th>\n",
       "      <td>Teo</td>\n",
       "      <td>Steiner</td>\n",
       "      <td>41</td>\n",
       "      <td>S</td>\n",
       "      <td>3</td>\n",
       "      <td>T</td>\n",
       "      <td>72.5</td>\n",
       "      <td>70.4</td>\n",
       "      <td>-2.1</td>\n",
       "      <td>-0.587692</td>\n",
       "      <td>(39, 44]</td>\n",
       "      <td>2.517647</td>\n",
       "    </tr>\n",
       "    <tr>\n",
       "      <th>195</th>\n",
       "      <td>Alexander</td>\n",
       "      <td>Takahashi</td>\n",
       "      <td>54</td>\n",
       "      <td>S</td>\n",
       "      <td>3</td>\n",
       "      <td>T</td>\n",
       "      <td>30.8</td>\n",
       "      <td>33.1</td>\n",
       "      <td>2.3</td>\n",
       "      <td>-0.587692</td>\n",
       "      <td>(49, 54]</td>\n",
       "      <td>4.658333</td>\n",
       "    </tr>\n",
       "    <tr>\n",
       "      <th>196</th>\n",
       "      <td>Alexandere</td>\n",
       "      <td>Takahashi</td>\n",
       "      <td>40</td>\n",
       "      <td>H</td>\n",
       "      <td>3</td>\n",
       "      <td>T</td>\n",
       "      <td>53.6</td>\n",
       "      <td>53.8</td>\n",
       "      <td>0.2</td>\n",
       "      <td>-0.587692</td>\n",
       "      <td>(39, 44]</td>\n",
       "      <td>2.517647</td>\n",
       "    </tr>\n",
       "    <tr>\n",
       "      <th>197</th>\n",
       "      <td>Chloe</td>\n",
       "      <td>Takahashi</td>\n",
       "      <td>32</td>\n",
       "      <td>S</td>\n",
       "      <td>3</td>\n",
       "      <td>T</td>\n",
       "      <td>43.1</td>\n",
       "      <td>42.1</td>\n",
       "      <td>-1.0</td>\n",
       "      <td>-0.587692</td>\n",
       "      <td>(29, 34]</td>\n",
       "      <td>0.651515</td>\n",
       "    </tr>\n",
       "  </tbody>\n",
       "</table>\n",
       "<p>65 rows × 12 columns</p>\n",
       "</div>"
      ],
      "text/plain": [
       "     first_name  last_name  age Happy_Sad_group  Dosage Drug  \\\n",
       "133        Ross    Bernard   37               S       1    T   \n",
       "134     Bastian   Carrasco   27               H       1    T   \n",
       "135      Daniel   Carrasco   28               H       1    T   \n",
       "136         Jun   Carrasco   30               S       1    T   \n",
       "137     William   Carrasco   62               H       1    T   \n",
       "..          ...        ...  ...             ...     ...  ...   \n",
       "193       Jacob      Novak   52               H       3    T   \n",
       "194         Teo    Steiner   41               S       3    T   \n",
       "195   Alexander  Takahashi   54               S       3    T   \n",
       "196  Alexandere  Takahashi   40               H       3    T   \n",
       "197       Chloe  Takahashi   32               S       3    T   \n",
       "\n",
       "     Mem_Score_Before  Mem_Score_After  Diff  avg_ovr_diff age_group  \\\n",
       "133              46.9             46.9   0.0     -0.587692  (34, 39]   \n",
       "134              51.4             51.4   0.0     -0.587692  (24, 29]   \n",
       "135              50.5             56.8   6.3     -0.587692  (24, 29]   \n",
       "136              50.0             42.2  -7.8     -0.587692  (29, 34]   \n",
       "137              96.0            102.0   6.0     -0.587692  (59, 64]   \n",
       "..                ...              ...   ...           ...       ...   \n",
       "193              71.3             74.3   3.0     -0.587692  (49, 54]   \n",
       "194              72.5             70.4  -2.1     -0.587692  (39, 44]   \n",
       "195              30.8             33.1   2.3     -0.587692  (49, 54]   \n",
       "196              53.6             53.8   0.2     -0.587692  (39, 44]   \n",
       "197              43.1             42.1  -1.0     -0.587692  (29, 34]   \n",
       "\n",
       "     avg_age_diff  \n",
       "133      5.725641  \n",
       "134      2.710417  \n",
       "135      2.710417  \n",
       "136      0.651515  \n",
       "137      2.460000  \n",
       "..            ...  \n",
       "193      4.658333  \n",
       "194      2.517647  \n",
       "195      4.658333  \n",
       "196      2.517647  \n",
       "197      0.651515  \n",
       "\n",
       "[65 rows x 12 columns]"
      ]
     },
     "execution_count": 89,
     "metadata": {},
     "output_type": "execute_result"
    }
   ],
   "source": [
    "triazolam_df = df.loc[df['Drug'] == 'T']\n",
    "triazolam_df"
   ]
  },
  {
   "cell_type": "code",
   "execution_count": 90,
   "metadata": {},
   "outputs": [
    {
     "data": {
      "text/html": [
       "<div>\n",
       "<style scoped>\n",
       "    .dataframe tbody tr th:only-of-type {\n",
       "        vertical-align: middle;\n",
       "    }\n",
       "\n",
       "    .dataframe tbody tr th {\n",
       "        vertical-align: top;\n",
       "    }\n",
       "\n",
       "    .dataframe thead th {\n",
       "        text-align: right;\n",
       "    }\n",
       "</style>\n",
       "<table border=\"1\" class=\"dataframe\">\n",
       "  <thead>\n",
       "    <tr style=\"text-align: right;\">\n",
       "      <th></th>\n",
       "      <th>first_name</th>\n",
       "      <th>last_name</th>\n",
       "      <th>age</th>\n",
       "      <th>Happy_Sad_group</th>\n",
       "      <th>Dosage</th>\n",
       "      <th>Drug</th>\n",
       "      <th>Mem_Score_Before</th>\n",
       "      <th>Mem_Score_After</th>\n",
       "      <th>Diff</th>\n",
       "      <th>avg_ovr_diff</th>\n",
       "      <th>age_group</th>\n",
       "      <th>avg_age_diff</th>\n",
       "    </tr>\n",
       "  </thead>\n",
       "  <tbody>\n",
       "    <tr>\n",
       "      <th>67</th>\n",
       "      <td>Ami</td>\n",
       "      <td>Carrasco</td>\n",
       "      <td>26</td>\n",
       "      <td>H</td>\n",
       "      <td>1</td>\n",
       "      <td>S</td>\n",
       "      <td>75.0</td>\n",
       "      <td>73.3</td>\n",
       "      <td>-1.7</td>\n",
       "      <td>-0.171212</td>\n",
       "      <td>(24, 29]</td>\n",
       "      <td>2.710417</td>\n",
       "    </tr>\n",
       "    <tr>\n",
       "      <th>68</th>\n",
       "      <td>Jose</td>\n",
       "      <td>Carrasco</td>\n",
       "      <td>29</td>\n",
       "      <td>H</td>\n",
       "      <td>1</td>\n",
       "      <td>S</td>\n",
       "      <td>90.0</td>\n",
       "      <td>90.0</td>\n",
       "      <td>0.0</td>\n",
       "      <td>-0.171212</td>\n",
       "      <td>(24, 29]</td>\n",
       "      <td>2.710417</td>\n",
       "    </tr>\n",
       "    <tr>\n",
       "      <th>69</th>\n",
       "      <td>Mai</td>\n",
       "      <td>Carrasco</td>\n",
       "      <td>56</td>\n",
       "      <td>S</td>\n",
       "      <td>1</td>\n",
       "      <td>S</td>\n",
       "      <td>49.2</td>\n",
       "      <td>64.2</td>\n",
       "      <td>15.0</td>\n",
       "      <td>-0.171212</td>\n",
       "      <td>(54, 59]</td>\n",
       "      <td>-2.225000</td>\n",
       "    </tr>\n",
       "    <tr>\n",
       "      <th>70</th>\n",
       "      <td>Yuta</td>\n",
       "      <td>Carrasco</td>\n",
       "      <td>28</td>\n",
       "      <td>H</td>\n",
       "      <td>1</td>\n",
       "      <td>S</td>\n",
       "      <td>54.5</td>\n",
       "      <td>53.6</td>\n",
       "      <td>-0.9</td>\n",
       "      <td>-0.171212</td>\n",
       "      <td>(24, 29]</td>\n",
       "      <td>2.710417</td>\n",
       "    </tr>\n",
       "    <tr>\n",
       "      <th>71</th>\n",
       "      <td>Marianne</td>\n",
       "      <td>Connolly</td>\n",
       "      <td>51</td>\n",
       "      <td>H</td>\n",
       "      <td>1</td>\n",
       "      <td>S</td>\n",
       "      <td>49.3</td>\n",
       "      <td>56.7</td>\n",
       "      <td>7.4</td>\n",
       "      <td>-0.171212</td>\n",
       "      <td>(49, 54]</td>\n",
       "      <td>4.658333</td>\n",
       "    </tr>\n",
       "    <tr>\n",
       "      <th>...</th>\n",
       "      <td>...</td>\n",
       "      <td>...</td>\n",
       "      <td>...</td>\n",
       "      <td>...</td>\n",
       "      <td>...</td>\n",
       "      <td>...</td>\n",
       "      <td>...</td>\n",
       "      <td>...</td>\n",
       "      <td>...</td>\n",
       "      <td>...</td>\n",
       "      <td>...</td>\n",
       "      <td>...</td>\n",
       "    </tr>\n",
       "    <tr>\n",
       "      <th>128</th>\n",
       "      <td>Chloe</td>\n",
       "      <td>Steiner</td>\n",
       "      <td>28</td>\n",
       "      <td>S</td>\n",
       "      <td>3</td>\n",
       "      <td>S</td>\n",
       "      <td>69.7</td>\n",
       "      <td>71.9</td>\n",
       "      <td>2.2</td>\n",
       "      <td>-0.171212</td>\n",
       "      <td>(24, 29]</td>\n",
       "      <td>2.710417</td>\n",
       "    </tr>\n",
       "    <tr>\n",
       "      <th>129</th>\n",
       "      <td>Nik</td>\n",
       "      <td>Summers</td>\n",
       "      <td>38</td>\n",
       "      <td>H</td>\n",
       "      <td>3</td>\n",
       "      <td>S</td>\n",
       "      <td>88.7</td>\n",
       "      <td>96.0</td>\n",
       "      <td>7.3</td>\n",
       "      <td>-0.171212</td>\n",
       "      <td>(34, 39]</td>\n",
       "      <td>5.725641</td>\n",
       "    </tr>\n",
       "    <tr>\n",
       "      <th>130</th>\n",
       "      <td>Tobias</td>\n",
       "      <td>Summers</td>\n",
       "      <td>43</td>\n",
       "      <td>S</td>\n",
       "      <td>3</td>\n",
       "      <td>S</td>\n",
       "      <td>49.3</td>\n",
       "      <td>52.7</td>\n",
       "      <td>3.4</td>\n",
       "      <td>-0.171212</td>\n",
       "      <td>(39, 44]</td>\n",
       "      <td>2.517647</td>\n",
       "    </tr>\n",
       "    <tr>\n",
       "      <th>131</th>\n",
       "      <td>Anna</td>\n",
       "      <td>Takahashi</td>\n",
       "      <td>45</td>\n",
       "      <td>H</td>\n",
       "      <td>3</td>\n",
       "      <td>S</td>\n",
       "      <td>81.9</td>\n",
       "      <td>80.6</td>\n",
       "      <td>-1.3</td>\n",
       "      <td>-0.171212</td>\n",
       "      <td>(44, 49]</td>\n",
       "      <td>3.064706</td>\n",
       "    </tr>\n",
       "    <tr>\n",
       "      <th>132</th>\n",
       "      <td>Shauna</td>\n",
       "      <td>Takahashi</td>\n",
       "      <td>27</td>\n",
       "      <td>S</td>\n",
       "      <td>3</td>\n",
       "      <td>S</td>\n",
       "      <td>40.0</td>\n",
       "      <td>42.2</td>\n",
       "      <td>2.2</td>\n",
       "      <td>-0.171212</td>\n",
       "      <td>(24, 29]</td>\n",
       "      <td>2.710417</td>\n",
       "    </tr>\n",
       "  </tbody>\n",
       "</table>\n",
       "<p>66 rows × 12 columns</p>\n",
       "</div>"
      ],
      "text/plain": [
       "    first_name  last_name  age Happy_Sad_group  Dosage Drug  Mem_Score_Before  \\\n",
       "67         Ami   Carrasco   26               H       1    S              75.0   \n",
       "68        Jose   Carrasco   29               H       1    S              90.0   \n",
       "69         Mai   Carrasco   56               S       1    S              49.2   \n",
       "70        Yuta   Carrasco   28               H       1    S              54.5   \n",
       "71    Marianne   Connolly   51               H       1    S              49.3   \n",
       "..         ...        ...  ...             ...     ...  ...               ...   \n",
       "128      Chloe    Steiner   28               S       3    S              69.7   \n",
       "129        Nik    Summers   38               H       3    S              88.7   \n",
       "130     Tobias    Summers   43               S       3    S              49.3   \n",
       "131       Anna  Takahashi   45               H       3    S              81.9   \n",
       "132     Shauna  Takahashi   27               S       3    S              40.0   \n",
       "\n",
       "     Mem_Score_After  Diff  avg_ovr_diff age_group  avg_age_diff  \n",
       "67              73.3  -1.7     -0.171212  (24, 29]      2.710417  \n",
       "68              90.0   0.0     -0.171212  (24, 29]      2.710417  \n",
       "69              64.2  15.0     -0.171212  (54, 59]     -2.225000  \n",
       "70              53.6  -0.9     -0.171212  (24, 29]      2.710417  \n",
       "71              56.7   7.4     -0.171212  (49, 54]      4.658333  \n",
       "..               ...   ...           ...       ...           ...  \n",
       "128             71.9   2.2     -0.171212  (24, 29]      2.710417  \n",
       "129             96.0   7.3     -0.171212  (34, 39]      5.725641  \n",
       "130             52.7   3.4     -0.171212  (39, 44]      2.517647  \n",
       "131             80.6  -1.3     -0.171212  (44, 49]      3.064706  \n",
       "132             42.2   2.2     -0.171212  (24, 29]      2.710417  \n",
       "\n",
       "[66 rows x 12 columns]"
      ]
     },
     "execution_count": 90,
     "metadata": {},
     "output_type": "execute_result"
    }
   ],
   "source": [
    "sugar_df = df.loc[df['Drug'] == 'S']\n",
    "sugar_df"
   ]
  },
  {
   "cell_type": "markdown",
   "metadata": {},
   "source": [
    "## Average age difference for each drug:-\n",
    "   We give the average age difference for each group."
   ]
  },
  {
   "cell_type": "code",
   "execution_count": 91,
   "metadata": {},
   "outputs": [
    {
     "name": "stderr",
     "output_type": "stream",
     "text": [
      "C:\\Users\\gotti\\anaconda3\\lib\\site-packages\\ipykernel_launcher.py:1: SettingWithCopyWarning: \n",
      "A value is trying to be set on a copy of a slice from a DataFrame.\n",
      "Try using .loc[row_indexer,col_indexer] = value instead\n",
      "\n",
      "See the caveats in the documentation: https://pandas.pydata.org/pandas-docs/stable/user_guide/indexing.html#returning-a-view-versus-a-copy\n",
      "  \"\"\"Entry point for launching an IPython kernel.\n"
     ]
    },
    {
     "data": {
      "text/html": [
       "<div>\n",
       "<style scoped>\n",
       "    .dataframe tbody tr th:only-of-type {\n",
       "        vertical-align: middle;\n",
       "    }\n",
       "\n",
       "    .dataframe tbody tr th {\n",
       "        vertical-align: top;\n",
       "    }\n",
       "\n",
       "    .dataframe thead th {\n",
       "        text-align: right;\n",
       "    }\n",
       "</style>\n",
       "<table border=\"1\" class=\"dataframe\">\n",
       "  <thead>\n",
       "    <tr style=\"text-align: right;\">\n",
       "      <th></th>\n",
       "      <th>age_group</th>\n",
       "      <th>avg_age_diff</th>\n",
       "    </tr>\n",
       "  </thead>\n",
       "  <tbody>\n",
       "    <tr>\n",
       "      <th>0</th>\n",
       "      <td>(24, 29]</td>\n",
       "      <td>4.4875</td>\n",
       "    </tr>\n",
       "    <tr>\n",
       "      <th>1</th>\n",
       "      <td>(49, 54]</td>\n",
       "      <td>8.3000</td>\n",
       "    </tr>\n",
       "    <tr>\n",
       "      <th>2</th>\n",
       "      <td>(24, 29]</td>\n",
       "      <td>4.4875</td>\n",
       "    </tr>\n",
       "    <tr>\n",
       "      <th>3</th>\n",
       "      <td>(49, 54]</td>\n",
       "      <td>8.3000</td>\n",
       "    </tr>\n",
       "    <tr>\n",
       "      <th>4</th>\n",
       "      <td>(49, 54]</td>\n",
       "      <td>8.3000</td>\n",
       "    </tr>\n",
       "  </tbody>\n",
       "</table>\n",
       "</div>"
      ],
      "text/plain": [
       "  age_group  avg_age_diff\n",
       "0  (24, 29]        4.4875\n",
       "1  (49, 54]        8.3000\n",
       "2  (24, 29]        4.4875\n",
       "3  (49, 54]        8.3000\n",
       "4  (49, 54]        8.3000"
      ]
     },
     "execution_count": 91,
     "metadata": {},
     "output_type": "execute_result"
    }
   ],
   "source": [
    "alprazolam_df['avg_age_diff'] = alprazolam_df.groupby('age_group')['Diff'].transform('mean')\n",
    "alprazolam_df[['age_group', 'avg_age_diff']].head()"
   ]
  },
  {
   "cell_type": "code",
   "execution_count": 92,
   "metadata": {},
   "outputs": [
    {
     "name": "stderr",
     "output_type": "stream",
     "text": [
      "C:\\Users\\gotti\\anaconda3\\lib\\site-packages\\ipykernel_launcher.py:1: SettingWithCopyWarning: \n",
      "A value is trying to be set on a copy of a slice from a DataFrame.\n",
      "Try using .loc[row_indexer,col_indexer] = value instead\n",
      "\n",
      "See the caveats in the documentation: https://pandas.pydata.org/pandas-docs/stable/user_guide/indexing.html#returning-a-view-versus-a-copy\n",
      "  \"\"\"Entry point for launching an IPython kernel.\n"
     ]
    },
    {
     "data": {
      "text/html": [
       "<div>\n",
       "<style scoped>\n",
       "    .dataframe tbody tr th:only-of-type {\n",
       "        vertical-align: middle;\n",
       "    }\n",
       "\n",
       "    .dataframe tbody tr th {\n",
       "        vertical-align: top;\n",
       "    }\n",
       "\n",
       "    .dataframe thead th {\n",
       "        text-align: right;\n",
       "    }\n",
       "</style>\n",
       "<table border=\"1\" class=\"dataframe\">\n",
       "  <thead>\n",
       "    <tr style=\"text-align: right;\">\n",
       "      <th></th>\n",
       "      <th>age_group</th>\n",
       "      <th>avg_age_diff</th>\n",
       "    </tr>\n",
       "  </thead>\n",
       "  <tbody>\n",
       "    <tr>\n",
       "      <th>133</th>\n",
       "      <td>(34, 39]</td>\n",
       "      <td>-0.788889</td>\n",
       "    </tr>\n",
       "    <tr>\n",
       "      <th>134</th>\n",
       "      <td>(24, 29]</td>\n",
       "      <td>1.223077</td>\n",
       "    </tr>\n",
       "    <tr>\n",
       "      <th>135</th>\n",
       "      <td>(24, 29]</td>\n",
       "      <td>1.223077</td>\n",
       "    </tr>\n",
       "    <tr>\n",
       "      <th>136</th>\n",
       "      <td>(29, 34]</td>\n",
       "      <td>-1.833333</td>\n",
       "    </tr>\n",
       "    <tr>\n",
       "      <th>137</th>\n",
       "      <td>(59, 64]</td>\n",
       "      <td>0.233333</td>\n",
       "    </tr>\n",
       "  </tbody>\n",
       "</table>\n",
       "</div>"
      ],
      "text/plain": [
       "    age_group  avg_age_diff\n",
       "133  (34, 39]     -0.788889\n",
       "134  (24, 29]      1.223077\n",
       "135  (24, 29]      1.223077\n",
       "136  (29, 34]     -1.833333\n",
       "137  (59, 64]      0.233333"
      ]
     },
     "execution_count": 92,
     "metadata": {},
     "output_type": "execute_result"
    }
   ],
   "source": [
    "triazolam_df['avg_age_diff'] = triazolam_df.groupby('age_group')['Diff'].transform('mean')\n",
    "triazolam_df[['age_group', 'avg_age_diff']].head()"
   ]
  },
  {
   "cell_type": "code",
   "execution_count": 93,
   "metadata": {},
   "outputs": [
    {
     "name": "stderr",
     "output_type": "stream",
     "text": [
      "C:\\Users\\gotti\\anaconda3\\lib\\site-packages\\ipykernel_launcher.py:1: SettingWithCopyWarning: \n",
      "A value is trying to be set on a copy of a slice from a DataFrame.\n",
      "Try using .loc[row_indexer,col_indexer] = value instead\n",
      "\n",
      "See the caveats in the documentation: https://pandas.pydata.org/pandas-docs/stable/user_guide/indexing.html#returning-a-view-versus-a-copy\n",
      "  \"\"\"Entry point for launching an IPython kernel.\n"
     ]
    },
    {
     "data": {
      "text/html": [
       "<div>\n",
       "<style scoped>\n",
       "    .dataframe tbody tr th:only-of-type {\n",
       "        vertical-align: middle;\n",
       "    }\n",
       "\n",
       "    .dataframe tbody tr th {\n",
       "        vertical-align: top;\n",
       "    }\n",
       "\n",
       "    .dataframe thead th {\n",
       "        text-align: right;\n",
       "    }\n",
       "</style>\n",
       "<table border=\"1\" class=\"dataframe\">\n",
       "  <thead>\n",
       "    <tr style=\"text-align: right;\">\n",
       "      <th></th>\n",
       "      <th>age_group</th>\n",
       "      <th>avg_age_diff</th>\n",
       "    </tr>\n",
       "  </thead>\n",
       "  <tbody>\n",
       "    <tr>\n",
       "      <th>67</th>\n",
       "      <td>(24, 29]</td>\n",
       "      <td>2.231579</td>\n",
       "    </tr>\n",
       "    <tr>\n",
       "      <th>68</th>\n",
       "      <td>(24, 29]</td>\n",
       "      <td>2.231579</td>\n",
       "    </tr>\n",
       "    <tr>\n",
       "      <th>69</th>\n",
       "      <td>(54, 59]</td>\n",
       "      <td>7.650000</td>\n",
       "    </tr>\n",
       "    <tr>\n",
       "      <th>70</th>\n",
       "      <td>(24, 29]</td>\n",
       "      <td>2.231579</td>\n",
       "    </tr>\n",
       "    <tr>\n",
       "      <th>71</th>\n",
       "      <td>(49, 54]</td>\n",
       "      <td>-0.240000</td>\n",
       "    </tr>\n",
       "  </tbody>\n",
       "</table>\n",
       "</div>"
      ],
      "text/plain": [
       "   age_group  avg_age_diff\n",
       "67  (24, 29]      2.231579\n",
       "68  (24, 29]      2.231579\n",
       "69  (54, 59]      7.650000\n",
       "70  (24, 29]      2.231579\n",
       "71  (49, 54]     -0.240000"
      ]
     },
     "execution_count": 93,
     "metadata": {},
     "output_type": "execute_result"
    }
   ],
   "source": [
    "sugar_df['avg_age_diff'] = sugar_df.groupby('age_group')['Diff'].transform('mean')\n",
    "sugar_df[['age_group', 'avg_age_diff']].head()"
   ]
  },
  {
   "cell_type": "markdown",
   "metadata": {},
   "source": [
    "## Usage of the drug:- \n",
    "    From the data we observe the number of records available for each drug"
   ]
  },
  {
   "cell_type": "code",
   "execution_count": 94,
   "metadata": {},
   "outputs": [
    {
     "name": "stderr",
     "output_type": "stream",
     "text": [
      "C:\\Users\\gotti\\anaconda3\\lib\\site-packages\\ipykernel_launcher.py:4: UserWarning: This figure includes Axes that are not compatible with tight_layout, so results might be incorrect.\n",
      "  after removing the cwd from sys.path.\n"
     ]
    },
    {
     "data": {
      "image/png": "[encoded data removed]",
      "text/plain": [
       "<Figure size 864x360 with 1 Axes>"
      ]
     },
     "metadata": {
      "needs_background": "light"
     },
     "output_type": "display_data"
    }
   ],
   "source": [
    "fig = plt.figure(figsize=(12, 5))\n",
    "ax = fig.add_axes([0,0,1,1])\n",
    "sns.countplot(x='Drug', data=df, ax=ax)\n",
    "plt.tight_layout()\n",
    "plt.title('Number of records for each record')\n",
    "plt.show()"
   ]
  },
  {
   "cell_type": "markdown",
   "metadata": {},
   "source": [
    "From the above obtained plot we observe that the data available for each drug is almost same"
   ]
  },
  {
   "cell_type": "markdown",
   "metadata": {},
   "source": [
    "## Number of seconds for Mem_score_Before:-\n",
    "    Now we take the number of seconds for each member before taking drug is as mentioned below."
   ]
  },
  {
   "cell_type": "code",
   "execution_count": 95,
   "metadata": {},
   "outputs": [
    {
     "name": "stderr",
     "output_type": "stream",
     "text": [
      "C:\\Users\\gotti\\anaconda3\\lib\\site-packages\\ipykernel_launcher.py:4: UserWarning: This figure includes Axes that are not compatible with tight_layout, so results might be incorrect.\n",
      "  after removing the cwd from sys.path.\n"
     ]
    },
    {
     "data": {
      "image/png": "[encoded data removed]",
      "text/plain": [
       "<Figure size 864x360 with 1 Axes>"
      ]
     },
     "metadata": {
      "needs_background": "light"
     },
     "output_type": "display_data"
    }
   ],
   "source": [
    "fig = plt.figure(figsize=(12, 5))\n",
    "ax = fig.add_axes([0,0,1,1])\n",
    "sns.boxplot(x='Mem_Score_Before', data=df, ax=ax)\n",
    "plt.tight_layout()\n",
    "plt.title('Number of seconds for memory loss')\n",
    "plt.show()"
   ]
  },
  {
   "cell_type": "markdown",
   "metadata": {},
   "source": [
    "From the above obtained boxplot we observe there is one outlayer present in it from the plot we observe the average age is approximately 55."
   ]
  },
  {
   "cell_type": "markdown",
   "metadata": {},
   "source": [
    "## Mem_Score_after:-\n",
    "     The number of seconds for the memory score after the drug is given is obtained below"
   ]
  },
  {
   "cell_type": "code",
   "execution_count": 96,
   "metadata": {},
   "outputs": [
    {
     "name": "stderr",
     "output_type": "stream",
     "text": [
      "C:\\Users\\gotti\\anaconda3\\lib\\site-packages\\ipykernel_launcher.py:4: UserWarning: This figure includes Axes that are not compatible with tight_layout, so results might be incorrect.\n",
      "  after removing the cwd from sys.path.\n"
     ]
    },
    {
     "data": {
      "image/png": "[encoded data removed]",
      "text/plain": [
       "<Figure size 864x360 with 1 Axes>"
      ]
     },
     "metadata": {
      "needs_background": "light"
     },
     "output_type": "display_data"
    }
   ],
   "source": [
    "fig = plt.figure(figsize=(12, 5))\n",
    "ax = fig.add_axes([0,0,1,1])\n",
    "sns.boxplot(x='Mem_Score_After', data=df, ax=ax)\n",
    "plt.tight_layout()\n",
    "plt.title('Number of seconds for memory loss')\n",
    "plt.show()"
   ]
  },
  {
   "cell_type": "markdown",
   "metadata": {},
   "source": [
    "From the above obtained box plot we observe the average value is approximately 56. It consists of two outliers present in it"
   ]
  },
  {
   "cell_type": "markdown",
   "metadata": {},
   "source": [
    "## Difference between the memory before and after:-\n",
    "    Now we observe the difference between the memory before and after the drug is given are mentioned."
   ]
  },
  {
   "cell_type": "code",
   "execution_count": 97,
   "metadata": {},
   "outputs": [
    {
     "name": "stderr",
     "output_type": "stream",
     "text": [
      "C:\\Users\\gotti\\anaconda3\\lib\\site-packages\\ipykernel_launcher.py:4: UserWarning: This figure includes Axes that are not compatible with tight_layout, so results might be incorrect.\n",
      "  after removing the cwd from sys.path.\n"
     ]
    },
    {
     "data": {
      "image/png": "[encoded data removed]",
      "text/plain": [
       "<Figure size 864x360 with 1 Axes>"
      ]
     },
     "metadata": {
      "needs_background": "light"
     },
     "output_type": "display_data"
    }
   ],
   "source": [
    "fig = plt.figure(figsize=(12, 5))\n",
    "ax = fig.add_axes([0,0,1,1])\n",
    "sns.boxplot(x='Diff', data=df, ax=ax)\n",
    "plt.tight_layout()\n",
    "plt.title('Difference in seconds before and after the drug')\n",
    "plt.show()"
   ]
  },
  {
   "cell_type": "markdown",
   "metadata": {},
   "source": [
    "From the above obtained boxplot we observe more number of outliers present in it the average difference between them is less it would be across 0-5 seconds"
   ]
  },
  {
   "cell_type": "markdown",
   "metadata": {},
   "source": [
    "# Bivariate Analysis:-"
   ]
  },
  {
   "cell_type": "markdown",
   "metadata": {},
   "source": [
    "## Difference Memory Before and After:-\n",
    "     Now we compare the memory before and after the drug is injected"
   ]
  },
  {
   "cell_type": "code",
   "execution_count": 98,
   "metadata": {},
   "outputs": [
    {
     "data": {
      "image/png": "[encoded data removed]",
      "text/plain": [
       "<Figure size 1008x576 with 1 Axes>"
      ]
     },
     "metadata": {
      "needs_background": "light"
     },
     "output_type": "display_data"
    }
   ],
   "source": [
    "plt.figure(figsize=(14,8))\n",
    "plt.scatter(x=df['Mem_Score_Before'],y=df['Mem_Score_After'])\n",
    "plt.title('The difference between before and after the drug is injected')\n",
    "plt.xlabel('Mem_Score_Before')\n",
    "plt.ylabel('Mem_Score_After')\n",
    "plt.show()"
   ]
  },
  {
   "cell_type": "markdown",
   "metadata": {},
   "source": [
    "From the above obtained scatter plot we observe the memory before and after the drug is injected. It shows that the memory score is almost equal between them."
   ]
  },
  {
   "cell_type": "markdown",
   "metadata": {},
   "source": [
    "## Difference in memory score for each drug:- \n",
    "   Now we take the difference in memory score by each drug for all ages"
   ]
  },
  {
   "cell_type": "code",
   "execution_count": 99,
   "metadata": {},
   "outputs": [
    {
     "name": "stderr",
     "output_type": "stream",
     "text": [
      "C:\\Users\\gotti\\anaconda3\\lib\\site-packages\\ipykernel_launcher.py:4: UserWarning: This figure includes Axes that are not compatible with tight_layout, so results might be incorrect.\n",
      "  after removing the cwd from sys.path.\n"
     ]
    },
    {
     "data": {
      "image/png": "[encoded data removed]",
      "text/plain": [
       "<Figure size 864x360 with 1 Axes>"
      ]
     },
     "metadata": {
      "needs_background": "light"
     },
     "output_type": "display_data"
    }
   ],
   "source": [
    "fig = plt.figure(figsize=(12, 5))\n",
    "ax = fig.add_axes([0,0,1,1])\n",
    "sns.barplot(x=df['Drug'], y=df['avg_ovr_diff'], ax=ax)\n",
    "plt.tight_layout()\n",
    "plt.title('Overall Avg Difference in Memory Score by Drug \\n (For all Ages)')\n",
    "plt.show()"
   ]
  },
  {
   "cell_type": "markdown",
   "metadata": {},
   "source": [
    "# Multivariate analysis:- "
   ]
  },
  {
   "cell_type": "markdown",
   "metadata": {},
   "source": [
    "## Number of observations for each age group:- \n",
    "     We take the number of observations for each group."
   ]
  },
  {
   "cell_type": "code",
   "execution_count": 100,
   "metadata": {},
   "outputs": [
    {
     "name": "stderr",
     "output_type": "stream",
     "text": [
      "C:\\Users\\gotti\\anaconda3\\lib\\site-packages\\ipykernel_launcher.py:5: UserWarning: This figure includes Axes that are not compatible with tight_layout, so results might be incorrect.\n",
      "  \"\"\"\n"
     ]
    },
    {
     "data": {
      "image/png": "[encoded data removed]",
      "text/plain": [
       "<Figure size 864x360 with 1 Axes>"
      ]
     },
     "metadata": {
      "needs_background": "light"
     },
     "output_type": "display_data"
    }
   ],
   "source": [
    "fig = plt.figure(figsize=(12, 5))\n",
    "ax = fig.add_axes([0,0,1,1])\n",
    "sns.countplot(x='age_group', data=df, ax=ax)\n",
    "plt.title('Number of Observations by Age Group')\n",
    "plt.tight_layout()\n",
    "plt.show()"
   ]
  },
  {
   "cell_type": "markdown",
   "metadata": {},
   "source": [
    "From the above obtained graph we observe the number of observations for each group."
   ]
  },
  {
   "cell_type": "code",
   "execution_count": 101,
   "metadata": {},
   "outputs": [
    {
     "name": "stderr",
     "output_type": "stream",
     "text": [
      "C:\\Users\\gotti\\anaconda3\\lib\\site-packages\\ipykernel_launcher.py:5: UserWarning: This figure includes Axes that are not compatible with tight_layout, so results might be incorrect.\n",
      "  \"\"\"\n"
     ]
    },
    {
     "data": {
      "image/png": "[encoded data removed]",
      "text/plain": [
       "<Figure size 864x360 with 1 Axes>"
      ]
     },
     "metadata": {
      "needs_background": "light"
     },
     "output_type": "display_data"
    }
   ],
   "source": [
    "fig = plt.figure(figsize=(12, 5))\n",
    "ax = fig.add_axes([0,0,1,1])\n",
    "sns.barplot(x=alprazolam_df['age_group'], y=alprazolam_df['avg_age_diff'], ax=ax)\n",
    "plt.title('Average Memory Score Difference \\n (Alprazolam)')\n",
    "plt.tight_layout()\n",
    "plt.show()"
   ]
  },
  {
   "cell_type": "code",
   "execution_count": 102,
   "metadata": {},
   "outputs": [
    {
     "name": "stderr",
     "output_type": "stream",
     "text": [
      "C:\\Users\\gotti\\anaconda3\\lib\\site-packages\\ipykernel_launcher.py:5: UserWarning: This figure includes Axes that are not compatible with tight_layout, so results might be incorrect.\n",
      "  \"\"\"\n"
     ]
    },
    {
     "data": {
      "image/png": "[encoded data removed]",
      "text/plain": [
       "<Figure size 864x360 with 1 Axes>"
      ]
     },
     "metadata": {
      "needs_background": "light"
     },
     "output_type": "display_data"
    }
   ],
   "source": [
    "fig = plt.figure(figsize=(12, 5))\n",
    "ax = fig.add_axes([0,0,1,1])\n",
    "sns.barplot(x=triazolam_df['age_group'], y=triazolam_df['avg_age_diff'], ax=ax)\n",
    "plt.plot('Average Memory Score Difference \\n (Triazolam)')\n",
    "plt.tight_layout()\n",
    "plt.show()"
   ]
  },
  {
   "cell_type": "code",
   "execution_count": 103,
   "metadata": {},
   "outputs": [
    {
     "name": "stderr",
     "output_type": "stream",
     "text": [
      "C:\\Users\\gotti\\anaconda3\\lib\\site-packages\\ipykernel_launcher.py:5: UserWarning: This figure includes Axes that are not compatible with tight_layout, so results might be incorrect.\n",
      "  \"\"\"\n"
     ]
    },
    {
     "data": {
      "image/png": "[encoded data removed]",
      "text/plain": [
       "<Figure size 864x360 with 1 Axes>"
      ]
     },
     "metadata": {
      "needs_background": "light"
     },
     "output_type": "display_data"
    }
   ],
   "source": [
    "fig = plt.figure(figsize=(12, 5))\n",
    "ax = fig.add_axes([0,0,1,1])\n",
    "sns.barplot(x=sugar_df['age_group'], y=sugar_df['avg_age_diff'], ax=ax)\n",
    "plt.title('Average Memory Score Difference \\n (Placebo)')\n",
    "plt.tight_layout()\n",
    "plt.show()"
   ]
  },
  {
   "cell_type": "code",
   "execution_count": 104,
   "metadata": {},
   "outputs": [
    {
     "name": "stderr",
     "output_type": "stream",
     "text": [
      "C:\\Users\\gotti\\anaconda3\\lib\\site-packages\\ipykernel_launcher.py:5: UserWarning: This figure includes Axes that are not compatible with tight_layout, so results might be incorrect.\n",
      "  \"\"\"\n"
     ]
    },
    {
     "data": {
      "image/png": "[encoded data removed]",
      "text/plain": [
       "<Figure size 864x360 with 1 Axes>"
      ]
     },
     "metadata": {
      "needs_background": "light"
     },
     "output_type": "display_data"
    }
   ],
   "source": [
    "fig = plt.figure(figsize=(12, 5))\n",
    "ax = fig.add_axes([0,0,1,1])\n",
    "sns.barplot(x=df['age_group'], y=df['avg_age_diff'], ax=ax)\n",
    "plt.title('Avg Change in Memory Score by Age Group \\n (Includes Both Drugs and Placebo)')\n",
    "plt.tight_layout()\n",
    "plt.show()"
   ]
  },
  {
   "cell_type": "markdown",
   "metadata": {},
   "source": [
    "# Conclusion:- \n",
    "    from the above obtained graphs and the results we observe the age group above 64 are not getting affected to the high dosage of drugs where as they are impacting more for using less dosage of drugs. "
   ]
  },
  {
   "cell_type": "code",
   "execution_count": null,
   "metadata": {},
   "outputs": [],
   "source": []
  }
 ],
 "metadata": {
  "kernelspec": {
   "display_name": "Python 3",
   "language": "python",
   "name": "python3"
  },
  "language_info": {
   "codemirror_mode": {
    "name": "ipython",
    "version": 3
   },
   "file_extension": ".py",
   "mimetype": "text/x-python",
   "name": "python",
   "nbconvert_exporter": "python",
   "pygments_lexer": "ipython3",
   "version": "3.7.6"
  }
 },
 "nbformat": 4,
 "nbformat_minor": 4
}
